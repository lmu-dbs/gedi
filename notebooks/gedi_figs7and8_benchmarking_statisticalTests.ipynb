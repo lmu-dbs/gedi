{
 "cells": [
  {
   "cell_type": "code",
   "execution_count": 1,
   "id": "1768477d",
   "metadata": {},
   "outputs": [],
   "source": [
    "import pandas as pd\n",
    "import os\n",
    "from scipy import spatial\n",
    "from sklearn.metrics.pairwise import cosine_similarity\n",
    "TEST='kendalltau'#'kendalltau', 'pearsonr'\n",
    "DATA_SOURCE = 'BaselineED' #'BaselineED', 'GenBaselineED', 'GenED'\n",
    "IMPUTE = False #If False Nan lines are dropped\n",
    "\n",
    "paper_feat_columns = [\"log\",\"ratio_variants_per_number_of_traces\", \"ratio_most_common_variant\", 'ratio_top_10_variants', 'epa_normalized_variant_entropy', 'epa_normalized_sequence_entropy', 'epa_normalized_sequence_entropy_linear_forgetting', 'epa_normalized_sequence_entropy_exponential_forgetting'] \n",
    "paper_metrics_columns = ['log', 'fitness_heu', 'precision_heu',\n",
    "           'fscore_heu', 'size_heu', 'cfc_heu', 'fitness_ilp', 'precision_ilp', 'fscore_ilp',\n",
    "           'size_ilp','cfc_ilp', 'fitness_imf', 'precision_imf', 'fscore_imf', 'size_imf', 'cfc_imf']\n",
    "os.makedirs(\"../output/plots\", exist_ok=True)"
   ]
  },
  {
   "cell_type": "code",
   "execution_count": 2,
   "id": "d3b7f2d1",
   "metadata": {},
   "outputs": [
    {
     "name": "stdout",
     "output_type": "stream",
     "text": [
      "BaselineED\n",
      "kendalltau_BaselineED_nanDropped\n"
     ]
    }
   ],
   "source": [
    "def get_output_file_name(test, data_source, impute):    \n",
    "    print(data_source)\n",
    "    impute = 'imputed' if impute else 'nanDropped'\n",
    "    return (\"_\".join([test, data_source, impute]))\n",
    "print(get_output_file_name(TEST, DATA_SOURCE, IMPUTE))"
   ]
  },
  {
   "cell_type": "code",
   "execution_count": 3,
   "id": "6594d6b4",
   "metadata": {},
   "outputs": [],
   "source": [
    "## LOAD FEATURE AND METRICS FILES\n",
    "def load_data(data_source, content):\n",
    "    path = f\"../data/{data_source}.csv\" \n",
    "    print(\"Path: \", path)\n",
    "    data = pd.read_csv(path).sort_values('log')\n",
    "    if data_source == 'GenBaselineED_feat':\n",
    "        data['log']=data.apply(lambda x: \"Gen\"+x['log'], axis=1)\n",
    "    elif data_source == 'GenBaselineED_bench':\n",
    "            data['log']=data.apply(lambda x: \"Gen\"+x['log'].replace(\"genEL\",\"\").rsplit(\"_\",7)[0], axis=1)\n",
    "    return data"
   ]
  },
  {
   "cell_type": "code",
   "execution_count": 4,
   "id": "7428d805",
   "metadata": {},
   "outputs": [],
   "source": [
    "### INSTANCE SELECTION: NULLS OR IMPUTATION?\n",
    "import numpy as np\n",
    "import matplotlib.pyplot as plt\n",
    "import seaborn as sns\n",
    "from sklearn.impute import SimpleImputer\n",
    "\n",
    "def clean_data(fd_pdm, impute=False, feat_columns=paper_feat_columns, metric_columns=paper_metrics_columns):\n",
    "    num_cols = fd_pdm.convert_dtypes().select_dtypes(exclude=['string']).columns\n",
    "    str_cols = fd_pdm.convert_dtypes().select_dtypes(include=['string']).columns\n",
    "\n",
    "    imputer = SimpleImputer(missing_values=np.nan, strategy='mean')\n",
    "    imputer.fit(fd_pdm.drop(str_cols, axis=1))\n",
    "    imp_df = imputer.transform(fd_pdm.drop(str_cols, axis=1))\n",
    "    imp_df = pd.DataFrame(imp_df, columns=num_cols)\n",
    "    imp_df['log'] = fd_pdm['log']\n",
    "    print(\"Imputed dataset:\" ,imp_df.shape)\n",
    "\n",
    "    ft_pdm_no_nans = fd_pdm.copy()\n",
    "    ft_pdm_no_nans = ft_pdm_no_nans.dropna()\n",
    "    ft_pdm_no_nans['log'] = fd_pdm['log']\n",
    "    print(\"No nan's dataset:\" ,ft_pdm_no_nans.shape)\n",
    "    #print(len(ft_pdm_no_nans[ft_pdm_no_nans['source']==DATA_SOURCE]['log']))\n",
    "    print(\"FT_COL: \", feat_columns)\n",
    "    print(\"M_COL: \", metric_columns)\n",
    "    \n",
    "    if IMPUTE:\n",
    "        benchmarked_ft = imp_df[feat_columns]\n",
    "        benchmarked_pd = imp_df[metric_columns]\n",
    "    else:\n",
    "        benchmarked_ft = ft_pdm_no_nans[feat_columns]\n",
    "        benchmarked_pd = ft_pdm_no_nans[metric_columns]\n",
    "    return benchmarked_ft, benchmarked_pd"
   ]
  },
  {
   "cell_type": "markdown",
   "id": "07370d54",
   "metadata": {},
   "source": [
    "## Statistical test: Is there a statistical significant relation between feature similarity and performance metrics?"
   ]
  },
  {
   "cell_type": "code",
   "execution_count": 5,
   "id": "14e72f71",
   "metadata": {},
   "outputs": [],
   "source": [
    "from scipy.stats import spearmanr\n",
    "from scipy.stats import kendalltau\n",
    "from scipy.stats import pearsonr\n",
    "from numpy import isnan\n",
    "\n",
    "import sys\n",
    "import os\n",
    "sys.path.append(os.path.dirname(\"../gedi/utils/io_helpers.py\"))\n",
    "from io_helpers import get_keys_abbreviation\n",
    "\n",
    "def statistical_test(feature_source, bench_source, test, impute=False, p_thresh=0.05, focus='stat'):\n",
    "    ft = load_data(feature_source, 'feat')\n",
    "    #ft['log']=ft.apply(lambda x: x['log'].replace(\"Gen\",\"\"), axis=1)\n",
    "    #paper_feat_columns = [\"log\",\"ratio_variants_per_number_of_traces\", \"ratio_most_common_variant\", 'ratio_top_10_variants', 'epa_normalized_variant_entropy', 'epa_normalized_sequence_entropy', 'epa_normalized_sequence_entropy_linear_forgetting', 'epa_normalized_sequence_entropy_exponential_forgetting'] \n",
    "    #ft= ft[paper_feat_columns]\n",
    "    #print(ft.shape)\n",
    "    #print(\"Feature: \", ft['log'].tolist())\n",
    "\n",
    "\n",
    "    ben = load_data(bench_source, 'bench')\n",
    "    #ben['log']=ben.apply(lambda x: x['log'].replace(\"Gen\",\"\"), axis=1)\n",
    "\n",
    "    paper_metrics_columns = ['log', 'fitness_heu', 'precision_heu',\n",
    "           'fscore_heu', 'size_heu', 'cfc_heu', 'fitness_ilp', 'precision_ilp', 'fscore_ilp',\n",
    "           'size_ilp','cfc_ilp', 'fitness_imf', 'precision_imf', 'fscore_imf', 'size_imf', 'cfc_imf']\n",
    "\n",
    "    #ben = ben[paper_metrics_columns]\n",
    "    #print(ben.shape)\n",
    "    #print(\"Bench: \", ben['log'].tolist())\n",
    "    fd_pdm = pd.merge(ft, ben, on=['log'], how='inner').reset_index(drop=True)#.reindex(both_df.index)\n",
    "\n",
    "    ## DROP DUPLICATES\n",
    "    fd_pdm = fd_pdm.reset_index(drop=True)\n",
    "    fd_pdm = fd_pdm.T.drop_duplicates().T\n",
    "    #print(fd_pdm.shape)\n",
    "    fd_pdm['log'].unique()\n",
    "    \n",
    "    #print(fd_pdm.columns)\n",
    "    benchmark_ft, benchmark_pd = clean_data(fd_pdm, impute, paper_feat_columns, paper_metrics_columns)\n",
    "    \n",
    "    #print(benchmark_ft.shape, benchmark_pd.shape)\n",
    "\n",
    "    benchmarked_ft_plot = benchmark_ft.copy()\n",
    "    benchmarked_pdm_plot = benchmark_pd.copy()\n",
    "\n",
    "    #benchmarked_ft = benchmarked_ft.head(10)\n",
    "    #benchmarked_pdm = benchmarked_pdm.head(10)\n",
    "    print(DATA_SOURCE, benchmarked_ft_plot.shape, benchmarked_pdm_plot.shape)\n",
    "\n",
    "    tmp = list(benchmarked_ft_plot.columns[1:-1])\n",
    "    df_tmp = pd.DataFrame(index=benchmarked_pdm_plot.columns[1:-1], columns=tmp)\n",
    "    #print(\"Benchmark_pdm:\", benchmarked_pdm.columns[1:-1])\n",
    "    #print (\"Benchmark_ft:\", tmp)\n",
    "\n",
    "    for feature in benchmarked_ft_plot.columns:\n",
    "        if feature != 'log' and feature != 'source':\n",
    "            for metric in benchmarked_pdm_plot.columns:\n",
    "                if metric != 'log' and metric != 'source':\n",
    "                    #print(feature, benchmarked_pdm.columns[1])\n",
    "                    stat, p = eval(f\"{test}(benchmarked_ft_plot[feature], benchmarked_pdm_plot[metric])\")   \n",
    "                    #print(feature, metric, p, p <= 0.05)\n",
    "                    df_tmp.loc[metric, feature] = eval(focus)*(1.0 if (p <= p_thresh) else 0.0)\n",
    "\n",
    "    feature_keys = get_keys_abbreviation(df_tmp.columns).split(\"_\")\n",
    "    #print(feature_keys)\n",
    "    df_tmp.columns=feature_keys\n",
    "    print(\"Direct\", test, feature_source)\n",
    "    # df_tmp[pd.isnan()]\n",
    "    return df_tmp\n",
    "#df_tmp = statistical_test(DATA_SOURCE+\"_feat\", \"Gen\"+DATA_SOURCE+\"_bench\", TEST, IMPUTE)"
   ]
  },
  {
   "cell_type": "code",
   "execution_count": 6,
   "id": "8f75faf4",
   "metadata": {},
   "outputs": [
    {
     "name": "stdout",
     "output_type": "stream",
     "text": [
      "Path:  ../data/BaselineED_feat.csv\n",
      "Path:  ../data/BaselineED_bench.csv\n",
      "Imputed dataset: (20, 26)\n",
      "No nan's dataset: (14, 26)\n",
      "FT_COL:  ['log', 'ratio_variants_per_number_of_traces', 'ratio_most_common_variant', 'ratio_top_10_variants', 'epa_normalized_variant_entropy', 'epa_normalized_sequence_entropy', 'epa_normalized_sequence_entropy_linear_forgetting', 'epa_normalized_sequence_entropy_exponential_forgetting']\n",
      "M_COL:  ['log', 'fitness_heu', 'precision_heu', 'fscore_heu', 'size_heu', 'cfc_heu', 'fitness_ilp', 'precision_ilp', 'fscore_ilp', 'size_ilp', 'cfc_ilp', 'fitness_imf', 'precision_imf', 'fscore_imf', 'size_imf', 'cfc_imf']\n",
      "BaselineED (14, 8) (14, 16)\n",
      "Direct kendalltau BaselineED_feat\n",
      "BaselineED\n",
      "../output/plots/pdm_kendalltau_BaselineED_nanDropped\n"
     ]
    },
    {
     "data": {
      "image/png": "[encoded data removed]",
      "text/plain": [
       "<Figure size 432x288 with 1 Axes>"
      ]
     },
     "metadata": {
      "needs_background": "light"
     },
     "output_type": "display_data"
    }
   ],
   "source": [
    "def plot_stat_test(test_results, feature_source, bench_source, test, impute, mask=True, cbar=False, ylabels=False):\n",
    "    feature_source = feature_source.split(\"_\")[0]\n",
    "    bench_source = bench_source.split(\"_\")[0]\n",
    "    if feature_source==bench_source:\n",
    "        data_source = feature_source\n",
    "    else:\n",
    "        data_source = f\"{feature_source}Feat_{bench_source}Bench\"\n",
    "    sns.heatmap(test_results.fillna(0), annot=True, cmap=\"viridis\", annot_kws={\"size\": 14}, vmin=-1, vmax=1, cbar=cbar )\n",
    "    ax = plt.gca()\n",
    "    if mask:\n",
    "        sns.heatmap(test_results.fillna(0), mask=test_results.fillna(0)!=0, cmap=\"Greys\", annot=False, ax=ax, cbar=False)\n",
    "\n",
    "    #ax.set_title(\"P-values of features leading to process discovery metrics\", fontsize=15)\n",
    "    cax = ax.figure.axes[-1]\n",
    "    cax.tick_params(labelsize=14)\n",
    "\n",
    "    plt.yticks(fontsize=16)\n",
    "    plt.xticks(fontsize=16)\n",
    "    plt.xticks(rotation=-30)\n",
    "\n",
    "    plt.tight_layout()\n",
    "    output_path = f\"../output/plots/pdm_{get_output_file_name(test, data_source, impute)}\"\n",
    "    print(output_path)\n",
    "    plt.savefig(output_path, dpi=300)\n",
    "\n",
    "masked_results = statistical_test(DATA_SOURCE+\"_feat\", DATA_SOURCE+\"_bench\", TEST, IMPUTE)\n",
    "plot_stat_test(masked_results, DATA_SOURCE+\"_feat\", DATA_SOURCE+\"_bench\", TEST, IMPUTE)"
   ]
  },
  {
   "cell_type": "code",
   "execution_count": 7,
   "id": "8065ff6f",
   "metadata": {},
   "outputs": [
    {
     "name": "stdout",
     "output_type": "stream",
     "text": [
      "kendalltau BaselineED\n",
      "Path:  ../data/BaselineED_feat.csv\n",
      "Path:  ../data/BaselineED_bench.csv\n",
      "Imputed dataset: (20, 26)\n",
      "No nan's dataset: (14, 26)\n",
      "FT_COL:  ['log', 'ratio_variants_per_number_of_traces', 'ratio_most_common_variant', 'ratio_top_10_variants', 'epa_normalized_variant_entropy', 'epa_normalized_sequence_entropy', 'epa_normalized_sequence_entropy_linear_forgetting', 'epa_normalized_sequence_entropy_exponential_forgetting']\n",
      "M_COL:  ['log', 'fitness_heu', 'precision_heu', 'fscore_heu', 'size_heu', 'cfc_heu', 'fitness_ilp', 'precision_ilp', 'fscore_ilp', 'size_ilp', 'cfc_ilp', 'fitness_imf', 'precision_imf', 'fscore_imf', 'size_imf', 'cfc_imf']\n",
      "BaselineED (14, 8) (14, 16)\n",
      "Direct kendalltau BaselineED_feat\n",
      "BaselineED\n",
      "../output/plots/pdm_kendalltau_BaselineED_nanDropped\n",
      "kendalltau GenBaselineED\n",
      "Path:  ../data/GenBaselineED_feat.csv\n",
      "Path:  ../data/GenBaselineED_bench.csv\n",
      "Imputed dataset: (24, 26)\n",
      "No nan's dataset: (19, 26)\n",
      "FT_COL:  ['log', 'ratio_variants_per_number_of_traces', 'ratio_most_common_variant', 'ratio_top_10_variants', 'epa_normalized_variant_entropy', 'epa_normalized_sequence_entropy', 'epa_normalized_sequence_entropy_linear_forgetting', 'epa_normalized_sequence_entropy_exponential_forgetting']\n",
      "M_COL:  ['log', 'fitness_heu', 'precision_heu', 'fscore_heu', 'size_heu', 'cfc_heu', 'fitness_ilp', 'precision_ilp', 'fscore_ilp', 'size_ilp', 'cfc_ilp', 'fitness_imf', 'precision_imf', 'fscore_imf', 'size_imf', 'cfc_imf']\n",
      "BaselineED (19, 8) (19, 16)\n",
      "Direct kendalltau GenBaselineED_feat\n",
      "GenBaselineED\n",
      "../output/plots/pdm_kendalltau_GenBaselineED_nanDropped\n",
      "kendalltau GenED\n",
      "Path:  ../data/GenED_feat.csv\n",
      "Path:  ../data/GenED_bench.csv\n",
      "Imputed dataset: (441, 26)\n",
      "No nan's dataset: (285, 26)\n",
      "FT_COL:  ['log', 'ratio_variants_per_number_of_traces', 'ratio_most_common_variant', 'ratio_top_10_variants', 'epa_normalized_variant_entropy', 'epa_normalized_sequence_entropy', 'epa_normalized_sequence_entropy_linear_forgetting', 'epa_normalized_sequence_entropy_exponential_forgetting']\n",
      "M_COL:  ['log', 'fitness_heu', 'precision_heu', 'fscore_heu', 'size_heu', 'cfc_heu', 'fitness_ilp', 'precision_ilp', 'fscore_ilp', 'size_ilp', 'cfc_ilp', 'fitness_imf', 'precision_imf', 'fscore_imf', 'size_imf', 'cfc_imf']\n",
      "BaselineED (285, 8) (285, 16)\n",
      "Direct kendalltau GenED_feat\n",
      "GenED\n",
      "../output/plots/pdm_kendalltau_GenED_nanDropped\n",
      "pearsonr BaselineED\n",
      "Path:  ../data/BaselineED_feat.csv\n",
      "Path:  ../data/BaselineED_bench.csv\n",
      "Imputed dataset: (20, 26)\n",
      "No nan's dataset: (14, 26)\n",
      "FT_COL:  ['log', 'ratio_variants_per_number_of_traces', 'ratio_most_common_variant', 'ratio_top_10_variants', 'epa_normalized_variant_entropy', 'epa_normalized_sequence_entropy', 'epa_normalized_sequence_entropy_linear_forgetting', 'epa_normalized_sequence_entropy_exponential_forgetting']\n",
      "M_COL:  ['log', 'fitness_heu', 'precision_heu', 'fscore_heu', 'size_heu', 'cfc_heu', 'fitness_ilp', 'precision_ilp', 'fscore_ilp', 'size_ilp', 'cfc_ilp', 'fitness_imf', 'precision_imf', 'fscore_imf', 'size_imf', 'cfc_imf']\n",
      "BaselineED (14, 8) (14, 16)\n",
      "Direct pearsonr BaselineED_feat\n",
      "BaselineED\n",
      "../output/plots/pdm_pearsonr_BaselineED_nanDropped\n",
      "pearsonr GenBaselineED\n",
      "Path:  ../data/GenBaselineED_feat.csv\n",
      "Path:  ../data/GenBaselineED_bench.csv\n",
      "Imputed dataset: (24, 26)\n",
      "No nan's dataset: (19, 26)\n",
      "FT_COL:  ['log', 'ratio_variants_per_number_of_traces', 'ratio_most_common_variant', 'ratio_top_10_variants', 'epa_normalized_variant_entropy', 'epa_normalized_sequence_entropy', 'epa_normalized_sequence_entropy_linear_forgetting', 'epa_normalized_sequence_entropy_exponential_forgetting']\n",
      "M_COL:  ['log', 'fitness_heu', 'precision_heu', 'fscore_heu', 'size_heu', 'cfc_heu', 'fitness_ilp', 'precision_ilp', 'fscore_ilp', 'size_ilp', 'cfc_ilp', 'fitness_imf', 'precision_imf', 'fscore_imf', 'size_imf', 'cfc_imf']\n",
      "BaselineED (19, 8) (19, 16)\n",
      "Direct pearsonr GenBaselineED_feat\n",
      "GenBaselineED\n",
      "../output/plots/pdm_pearsonr_GenBaselineED_nanDropped\n",
      "pearsonr GenED\n",
      "Path:  ../data/GenED_feat.csv\n",
      "Path:  ../data/GenED_bench.csv\n",
      "Imputed dataset: (441, 26)\n",
      "No nan's dataset: (285, 26)\n",
      "FT_COL:  ['log', 'ratio_variants_per_number_of_traces', 'ratio_most_common_variant', 'ratio_top_10_variants', 'epa_normalized_variant_entropy', 'epa_normalized_sequence_entropy', 'epa_normalized_sequence_entropy_linear_forgetting', 'epa_normalized_sequence_entropy_exponential_forgetting']\n",
      "M_COL:  ['log', 'fitness_heu', 'precision_heu', 'fscore_heu', 'size_heu', 'cfc_heu', 'fitness_ilp', 'precision_ilp', 'fscore_ilp', 'size_ilp', 'cfc_ilp', 'fitness_imf', 'precision_imf', 'fscore_imf', 'size_imf', 'cfc_imf']\n",
      "BaselineED (285, 8) (285, 16)\n",
      "Direct pearsonr GenED_feat\n",
      "GenED\n",
      "../output/plots/pdm_pearsonr_GenED_nanDropped\n"
     ]
    },
    {
     "data": {
      "text/plain": [
       "<Figure size 432x288 with 0 Axes>"
      ]
     },
     "metadata": {},
     "output_type": "display_data"
    }
   ],
   "source": [
    "TESTS=['kendalltau', 'pearsonr']\n",
    "DATA_SOURCES = ['BaselineED', 'GenBaselineED', 'GenED']\n",
    "\n",
    "for test in TESTS:\n",
    "    for data_source in DATA_SOURCES:\n",
    "        cbar = True if data_source == 'GenED' else False\n",
    "        ylabels = True if data_source == 'BaselineED' else False\n",
    "        print(test, data_source)\n",
    "        masked_results = statistical_test(data_source+\"_feat\", data_source+\"_bench\", test, IMPUTE)\n",
    "        plot_stat_test(masked_results, data_source+\"_feat\", data_source+\"_bench\", test, IMPUTE, cbar=cbar, ylabels=ylabels)\n",
    "        plt.clf()"
   ]
  },
  {
   "cell_type": "code",
   "execution_count": null,
   "id": "52c58c64",
   "metadata": {},
   "outputs": [],
   "source": []
  },
  {
   "cell_type": "code",
   "execution_count": null,
   "id": "3717a694",
   "metadata": {},
   "outputs": [],
   "source": []
  },
  {
   "cell_type": "code",
   "execution_count": null,
   "id": "c6afe4d9",
   "metadata": {},
   "outputs": [],
   "source": []
  }
 ],
 "metadata": {
  "kernelspec": {
   "display_name": "tag",
   "language": "python",
   "name": "tag"
  },
  "language_info": {
   "codemirror_mode": {
    "name": "ipython",
    "version": 3
   },
   "file_extension": ".py",
   "mimetype": "text/x-python",
   "name": "python",
   "nbconvert_exporter": "python",
   "pygments_lexer": "ipython3",
   "version": "3.9.18"
  }
 },
 "nbformat": 4,
 "nbformat_minor": 5
}
